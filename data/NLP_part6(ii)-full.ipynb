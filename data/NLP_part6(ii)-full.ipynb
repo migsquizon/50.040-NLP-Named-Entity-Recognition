{
 "cells": [
  {
   "cell_type": "code",
   "execution_count": 1,
   "metadata": {},
   "outputs": [],
   "source": [
    "import os\n",
    "import pickle"
   ]
  },
  {
   "cell_type": "code",
   "execution_count": 3,
   "metadata": {},
   "outputs": [
    {
     "name": "stdout",
     "output_type": "stream",
     "text": [
      "^C\n"
     ]
    }
   ],
   "source": [
    "!python bert-ner_run.py --no_cuda --data_dir=full/ --bert_model=bert-base-cased --task_name=ner --output_dir=out_ner_full --max_seq_length=128 --do_train --num_train_epochs 3 --warmup_proportion=0.1"
   ]
  },
  {
   "cell_type": "code",
   "execution_count": 28,
   "metadata": {},
   "outputs": [],
   "source": [
    "# SAVE MODEL\n",
    "filename = 'bert-ner_model.sav'\n",
    "pickle.dump(model, open(filename, 'wb'))"
   ]
  },
  {
   "cell_type": "code",
   "execution_count": null,
   "metadata": {},
   "outputs": [],
   "source": [
    "# LOAD MODEL\n",
    "loaded_model = pickle.load(open(filename), 'rb')"
   ]
  },
  {
   "cell_type": "code",
   "execution_count": 19,
   "metadata": {},
   "outputs": [
    {
     "name": "stderr",
     "output_type": "stream",
     "text": [
      "[nltk_data] Downloading package punkt to\n",
      "[nltk_data]     C:\\Users\\andrehadianto\\AppData\\Roaming\\nltk_data...\n",
      "[nltk_data]   Package punkt is already up-to-date!\n"
     ]
    },
    {
     "data": {
      "text/plain": [
       "True"
      ]
     },
     "execution_count": 19,
     "metadata": {},
     "output_type": "execute_result"
    }
   ],
   "source": [
    "import nltk\n",
    "nltk.download('punkt')"
   ]
  },
  {
   "cell_type": "code",
   "execution_count": 23,
   "metadata": {},
   "outputs": [
    {
     "name": "stdout",
     "output_type": "stream",
     "text": [
      "Text to predict Entity: British forces, based in the mainly south, have suffered far fewer losses than the much larger U.S. force fighting Sunni Arab insurgents and foreign fighters in the rest of Iraq.\n",
      "{'word': 'British', 'tag': 'B-gpe', 'confidence': 0.5998727679252625}\n",
      "{'word': 'forces', 'tag': 'O', 'confidence': 0.9960131645202637}\n",
      "{'word': ',', 'tag': 'O', 'confidence': 0.9965710639953613}\n",
      "{'word': 'based', 'tag': 'O', 'confidence': 0.996905505657196}\n",
      "{'word': 'in', 'tag': 'O', 'confidence': 0.9965936541557312}\n",
      "{'word': 'the', 'tag': 'O', 'confidence': 0.9960546493530273}\n",
      "{'word': 'mainly', 'tag': 'O', 'confidence': 0.9910088181495667}\n",
      "{'word': 'south', 'tag': 'O', 'confidence': 0.9807453155517578}\n",
      "{'word': ',', 'tag': 'O', 'confidence': 0.9971997737884521}\n",
      "{'word': 'have', 'tag': 'O', 'confidence': 0.9975717663764954}\n",
      "{'word': 'suffered', 'tag': 'O', 'confidence': 0.9974257349967957}\n",
      "{'word': 'far', 'tag': 'O', 'confidence': 0.9960442781448364}\n",
      "{'word': 'fewer', 'tag': 'O', 'confidence': 0.9973483085632324}\n",
      "{'word': 'losses', 'tag': 'O', 'confidence': 0.9976798892021179}\n",
      "{'word': 'than', 'tag': 'O', 'confidence': 0.9974265694618225}\n",
      "{'word': 'the', 'tag': 'O', 'confidence': 0.997221827507019}\n",
      "{'word': 'much', 'tag': 'O', 'confidence': 0.9960616230964661}\n",
      "{'word': 'larger', 'tag': 'O', 'confidence': 0.997534990310669}\n",
      "{'word': 'U.S.', 'tag': 'B-geo', 'confidence': 0.7456303238868713}\n",
      "{'word': 'force', 'tag': 'O', 'confidence': 0.9964680671691895}\n",
      "{'word': 'fighting', 'tag': 'O', 'confidence': 0.9975874423980713}\n",
      "{'word': 'Sunni', 'tag': 'O', 'confidence': 0.9605178833007812}\n",
      "{'word': 'Arab', 'tag': 'O', 'confidence': 0.5806556940078735}\n",
      "{'word': 'insurgents', 'tag': 'O', 'confidence': 0.9968796968460083}\n",
      "{'word': 'and', 'tag': 'O', 'confidence': 0.9973598122596741}\n",
      "{'word': 'foreign', 'tag': 'O', 'confidence': 0.9971575736999512}\n",
      "{'word': 'fighters', 'tag': 'O', 'confidence': 0.9976492524147034}\n",
      "{'word': 'in', 'tag': 'O', 'confidence': 0.9969857335090637}\n",
      "{'word': 'the', 'tag': 'O', 'confidence': 0.9965174198150635}\n",
      "{'word': 'rest', 'tag': 'O', 'confidence': 0.9885882139205933}\n",
      "{'word': 'of', 'tag': 'O', 'confidence': 0.9837090969085693}\n",
      "{'word': 'Iraq', 'tag': 'B-geo', 'confidence': 0.91545569896698}\n",
      "{'word': '.', 'tag': 'O', 'confidence': 0.9966469407081604}\n"
     ]
    }
   ],
   "source": [
    "from bert import Ner\n",
    "model = Ner('out_ner/')\n",
    "\n",
    "text = 'British forces, based in the mainly south, have suffered far fewer losses than the much larger U.S. force fighting Sunni Arab insurgents and foreign fighters in the rest of Iraq.'\n",
    "print(\"Text to predict Entity:\", text)\n",
    "\n",
    "output = model.predict(text)\n",
    "for prediction in output:\n",
    "    print(prediction)"
   ]
  },
  {
   "cell_type": "code",
   "execution_count": 24,
   "metadata": {},
   "outputs": [],
   "source": [
    "dataset = \"partial\""
   ]
  },
  {
   "cell_type": "code",
   "execution_count": 25,
   "metadata": {},
   "outputs": [],
   "source": [
    "sentences = list()\n",
    "with open(os.path.join(dataset, \"dev.in\")) as f:\n",
    "        lines = f.readlines()\n",
    "        sentence = list()\n",
    "        sent = \"\"\n",
    "        for line in lines:\n",
    "            formatted_line = line.strip()\n",
    "            if(len(formatted_line) ==0):\n",
    "                sentences.append(sent.strip())\n",
    "                sent = \"\"\n",
    "                continue\n",
    "            sent += formatted_line+\" \"    \n",
    "            \n",
    "output_filename='dev.p6.model.out'\n",
    "with open(os.path.join(dataset, output_filename), \"w\") as wf:\n",
    "    for sentence in sentences:\n",
    "        output = model.predict(sentence)\n",
    "        for prediction in output:\n",
    "            wf.write(prediction['word'] + \" \" + prediction['tag'] + \"\\n\")               \n",
    "        wf.write(\"\\n\")"
   ]
  },
  {
   "cell_type": "code",
   "execution_count": 27,
   "metadata": {},
   "outputs": [
    {
     "name": "stdout",
     "output_type": "stream",
     "text": [
      "The O\n",
      "\n",
      "processed 2097 tokens with 236 phrases; found: 264 phrases; correct: 146.\n",
      "accuracy:  63.24%; (non-O)\n",
      "accuracy:  93.04%; precision:  55.30%; recall:  61.86%; FB1:  58.40\n",
      "              art: precision:   0.00%; recall:   0.00%; FB1:   0.00  0\n",
      "              eve: precision:   0.00%; recall:   0.00%; FB1:   0.00  0\n",
      "              geo: precision:  58.82%; recall:  70.59%; FB1:  64.17  102\n",
      "              gpe: precision:  81.82%; recall:  72.00%; FB1:  76.60  22\n",
      "              nat: precision:   0.00%; recall:   0.00%; FB1:   0.00  0\n",
      "              org: precision:  27.66%; recall:  37.14%; FB1:  31.71  47\n",
      "              per: precision:  63.33%; recall:  59.38%; FB1:  61.29  30\n",
      "              tim: precision:  57.14%; recall:  67.92%; FB1:  62.07  63\n",
      "(55.3030303030303, 61.86440677966102, 58.400000000000006)\n"
     ]
    }
   ],
   "source": [
    "from conlleval2 import evaluate, evaluate_conll_file\n",
    "\n",
    "def eval(pred,gold):\n",
    "    f_pred = open(pred,encoding = 'utf-8')\n",
    "    f_gold = open(gold,encoding = 'utf-8')\n",
    "    data_pred = f_pred.readlines()\n",
    "    data_gold = f_gold.readlines()\n",
    "    gold_tags = list()\n",
    "    pred_tags = list()\n",
    "    print(data_pred[0])\n",
    "    for sentence in range(len(data_pred)):\n",
    "        words_pred = data_pred[sentence].strip().split(' ')    \n",
    "        words_gold = data_gold[sentence].strip().split(' ')  \n",
    "        if len(words_gold)==1:\n",
    "            continue\n",
    "        gold_tags.append(words_gold[1])\n",
    "        pred_tags.append(words_pred[1])\n",
    "    return gold_tags,pred_tags\n",
    "\n",
    "g_tags, p_tags = eval(os.path.join(dataset, 'dev.p6.model.out'), os.path.join(dataset, 'dev.out'))\n",
    "print(evaluate(g_tags,p_tags,verbose=True))"
   ]
  }
 ],
 "metadata": {
  "kernelspec": {
   "display_name": "Python 3",
   "language": "python",
   "name": "python3"
  },
  "language_info": {
   "codemirror_mode": {
    "name": "ipython",
    "version": 3
   },
   "file_extension": ".py",
   "mimetype": "text/x-python",
   "name": "python",
   "nbconvert_exporter": "python",
   "pygments_lexer": "ipython3",
   "version": "3.7.7"
  }
 },
 "nbformat": 4,
 "nbformat_minor": 4
}
